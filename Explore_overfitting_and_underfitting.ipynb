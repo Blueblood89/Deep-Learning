{
  "nbformat": 4,
  "nbformat_minor": 0,
  "metadata": {
    "colab": {
      "name": "Explore overfitting and underfitting.ipynb",
      "version": "0.3.2",
      "provenance": [],
      "collapsed_sections": []
    },
    "kernelspec": {
      "name": "python3",
      "display_name": "Python 3"
    },
    "accelerator": "GPU"
  },
  "cells": [
    {
      "cell_type": "markdown",
      "metadata": {
        "id": "_0VD6caBzdc-",
        "colab_type": "text"
      },
      "source": [
        "# Explore overfitting and underfitting"
      ]
    },
    {
      "cell_type": "markdown",
      "metadata": {
        "id": "rXRMy2YJES0H",
        "colab_type": "text"
      },
      "source": [
        "To prevent overfitting, the best solution is to use more training data. A model trained on more data will naturally generalize better. When that is no longer possible, the next best solution is to use techniques like regularization."
      ]
    },
    {
      "cell_type": "markdown",
      "metadata": {
        "id": "F8kicvwlaBkM",
        "colab_type": "text"
      },
      "source": [
        "In this notebook, we'll explore two common regularization techniques—weight regularization and dropout."
      ]
    },
    {
      "cell_type": "code",
      "metadata": {
        "id": "Lq1diQqHaFhT",
        "colab_type": "code",
        "colab": {}
      },
      "source": [
        "import tensorflow"
      ],
      "execution_count": 0,
      "outputs": []
    },
    {
      "cell_type": "code",
      "metadata": {
        "id": "jYfJ6dAHaI-L",
        "colab_type": "code",
        "outputId": "1314ab3f-0e28-4679-a8df-2d2919b50c04",
        "colab": {
          "base_uri": "https://localhost:8080/",
          "height": 34
        }
      },
      "source": [
        "tensorflow.__version__"
      ],
      "execution_count": 2,
      "outputs": [
        {
          "output_type": "execute_result",
          "data": {
            "text/plain": [
              "'1.14.0'"
            ]
          },
          "metadata": {
            "tags": []
          },
          "execution_count": 2
        }
      ]
    },
    {
      "cell_type": "code",
      "metadata": {
        "id": "w-ySu_7kaMbe",
        "colab_type": "code",
        "outputId": "cf26c80f-ee2f-4951-9fac-ed24a6197838",
        "colab": {
          "base_uri": "https://localhost:8080/",
          "height": 85
        }
      },
      "source": [
        "from __future__ import absolute_import, division, print_function, unicode_literals\n",
        "\n",
        "!pip install -q tensorflow==2.0.0-beta1\n",
        "import tensorflow as tf\n",
        "from tensorflow import keras\n",
        "\n",
        "import numpy as np\n",
        "import matplotlib.pyplot as plt\n",
        "\n",
        "print(tf.__version__)"
      ],
      "execution_count": 3,
      "outputs": [
        {
          "output_type": "stream",
          "text": [
            "\u001b[K     |████████████████████████████████| 87.9MB 1.3MB/s \n",
            "\u001b[K     |████████████████████████████████| 3.1MB 23.4MB/s \n",
            "\u001b[K     |████████████████████████████████| 501kB 44.5MB/s \n",
            "\u001b[?25h1.14.0\n"
          ],
          "name": "stdout"
        }
      ]
    },
    {
      "cell_type": "markdown",
      "metadata": {
        "id": "6hHNTBujbFrm",
        "colab_type": "text"
      },
      "source": [
        "Rather than using an embedding as in the previous notebook, here we will multi-hot encode the sentences. This model will quickly overfit to the training set. It will be used to demonstrate when overfitting occurs, and how to fight it.\n",
        "\n",
        "Multi-hot-encoding our lists means turning them into vectors of 0s and 1s. Concretely, this would mean for instance turning the sequence [3, 5] into a 10,000-dimensional vector that would be all-zeros except for indices 3 and 5, which would be ones.\n",
        "\n"
      ]
    },
    {
      "cell_type": "code",
      "metadata": {
        "id": "jwvPBhcSz-mu",
        "colab_type": "code",
        "colab": {
          "base_uri": "https://localhost:8080/",
          "height": 51
        },
        "outputId": "9fab86cd-ecf0-47bc-c7ef-cb97eefd4ae6"
      },
      "source": [
        "NUM_WORDS = 10000\n",
        "\n",
        "(train_data, train_labels), (test_data, test_labels) = keras.datasets.imdb.load_data(num_words=NUM_WORDS)\n",
        "\n",
        "def multi_hot_sequences(sequences, dimension):\n",
        "    # Create an all-zero matrix of shape (len(sequences), dimension)\n",
        "    results = np.zeros((len(sequences), dimension))\n",
        "    for i, word_indices in enumerate(sequences):\n",
        "        results[i, word_indices] = 1.0  # set specific indices of results[i] to 1s\n",
        "    return results\n",
        "\n",
        "\n",
        "train_data = multi_hot_sequences(train_data, dimension=NUM_WORDS)\n",
        "test_data = multi_hot_sequences(test_data, dimension=NUM_WORDS)"
      ],
      "execution_count": 4,
      "outputs": [
        {
          "output_type": "stream",
          "text": [
            "Downloading data from https://storage.googleapis.com/tensorflow/tf-keras-datasets/imdb.npz\n",
            "17465344/17464789 [==============================] - 0s 0us/step\n"
          ],
          "name": "stdout"
        }
      ]
    },
    {
      "cell_type": "code",
      "metadata": {
        "id": "CwgFguN25SFr",
        "colab_type": "code",
        "colab": {
          "base_uri": "https://localhost:8080/",
          "height": 853
        },
        "outputId": "764bfc87-8450-4118-c854-5bcc32d3d561"
      },
      "source": [
        "dpt_model = keras.models.Sequential([\n",
        "    keras.layers.Dense(16, activation='relu', input_shape=(NUM_WORDS,)),\n",
        "    keras.layers.Dropout(0.5),\n",
        "    keras.layers.Dense(16, activation='relu'),\n",
        "    keras.layers.Dropout(0.5),\n",
        "    keras.layers.Dense(1, activation='sigmoid')\n",
        "])\n",
        "\n",
        "dpt_model.compile(optimizer='adam',\n",
        "                  loss='binary_crossentropy',\n",
        "                  metrics=['accuracy','binary_crossentropy'])\n",
        "\n",
        "dpt_model_history = dpt_model.fit(train_data, train_labels,\n",
        "                                  epochs=20,\n",
        "                                  batch_size=512,\n",
        "                                  validation_data=(test_data, test_labels),\n",
        "                                  verbose=2)"
      ],
      "execution_count": 5,
      "outputs": [
        {
          "output_type": "stream",
          "text": [
            "WARNING: Logging before flag parsing goes to stderr.\n",
            "W0709 08:41:35.049851 140114071611264 deprecation.py:506] From /usr/local/lib/python3.6/dist-packages/tensorflow/python/ops/init_ops.py:1251: calling VarianceScaling.__init__ (from tensorflow.python.ops.init_ops) with dtype is deprecated and will be removed in a future version.\n",
            "Instructions for updating:\n",
            "Call initializer instance with the dtype argument instead of passing it to the constructor\n",
            "W0709 08:41:35.229569 140114071611264 deprecation.py:323] From /usr/local/lib/python3.6/dist-packages/tensorflow/python/ops/nn_impl.py:180: add_dispatch_support.<locals>.wrapper (from tensorflow.python.ops.array_ops) is deprecated and will be removed in a future version.\n",
            "Instructions for updating:\n",
            "Use tf.where in 2.0, which has the same broadcast rule as np.where\n"
          ],
          "name": "stderr"
        },
        {
          "output_type": "stream",
          "text": [
            "Train on 25000 samples, validate on 25000 samples\n",
            "Epoch 1/20\n",
            "25000/25000 - 4s - loss: 0.6102 - acc: 0.6620 - binary_crossentropy: 0.6102 - val_loss: 0.4576 - val_acc: 0.8542 - val_binary_crossentropy: 0.4576\n",
            "Epoch 2/20\n",
            "25000/25000 - 3s - loss: 0.4257 - acc: 0.8271 - binary_crossentropy: 0.4257 - val_loss: 0.3230 - val_acc: 0.8829 - val_binary_crossentropy: 0.3230\n",
            "Epoch 3/20\n",
            "25000/25000 - 3s - loss: 0.3308 - acc: 0.8747 - binary_crossentropy: 0.3308 - val_loss: 0.2819 - val_acc: 0.8868 - val_binary_crossentropy: 0.2819\n",
            "Epoch 4/20\n",
            "25000/25000 - 3s - loss: 0.2725 - acc: 0.9025 - binary_crossentropy: 0.2725 - val_loss: 0.2757 - val_acc: 0.8879 - val_binary_crossentropy: 0.2757\n",
            "Epoch 5/20\n",
            "25000/25000 - 3s - loss: 0.2367 - acc: 0.9168 - binary_crossentropy: 0.2367 - val_loss: 0.2813 - val_acc: 0.8863 - val_binary_crossentropy: 0.2813\n",
            "Epoch 6/20\n",
            "25000/25000 - 3s - loss: 0.2040 - acc: 0.9294 - binary_crossentropy: 0.2040 - val_loss: 0.2879 - val_acc: 0.8866 - val_binary_crossentropy: 0.2879\n",
            "Epoch 7/20\n",
            "25000/25000 - 3s - loss: 0.1773 - acc: 0.9390 - binary_crossentropy: 0.1773 - val_loss: 0.3068 - val_acc: 0.8845 - val_binary_crossentropy: 0.3068\n",
            "Epoch 8/20\n",
            "25000/25000 - 3s - loss: 0.1618 - acc: 0.9424 - binary_crossentropy: 0.1618 - val_loss: 0.3176 - val_acc: 0.8838 - val_binary_crossentropy: 0.3176\n",
            "Epoch 9/20\n",
            "25000/25000 - 3s - loss: 0.1447 - acc: 0.9482 - binary_crossentropy: 0.1447 - val_loss: 0.3475 - val_acc: 0.8815 - val_binary_crossentropy: 0.3475\n",
            "Epoch 10/20\n",
            "25000/25000 - 3s - loss: 0.1321 - acc: 0.9525 - binary_crossentropy: 0.1321 - val_loss: 0.3614 - val_acc: 0.8802 - val_binary_crossentropy: 0.3614\n",
            "Epoch 11/20\n",
            "25000/25000 - 3s - loss: 0.1218 - acc: 0.9553 - binary_crossentropy: 0.1218 - val_loss: 0.3935 - val_acc: 0.8794 - val_binary_crossentropy: 0.3935\n",
            "Epoch 12/20\n",
            "25000/25000 - 3s - loss: 0.1078 - acc: 0.9593 - binary_crossentropy: 0.1078 - val_loss: 0.4097 - val_acc: 0.8791 - val_binary_crossentropy: 0.4097\n",
            "Epoch 13/20\n",
            "25000/25000 - 3s - loss: 0.1030 - acc: 0.9608 - binary_crossentropy: 0.1030 - val_loss: 0.4090 - val_acc: 0.8790 - val_binary_crossentropy: 0.4090\n",
            "Epoch 14/20\n",
            "25000/25000 - 3s - loss: 0.0932 - acc: 0.9639 - binary_crossentropy: 0.0932 - val_loss: 0.4501 - val_acc: 0.8773 - val_binary_crossentropy: 0.4501\n",
            "Epoch 15/20\n",
            "25000/25000 - 3s - loss: 0.0873 - acc: 0.9638 - binary_crossentropy: 0.0873 - val_loss: 0.4601 - val_acc: 0.8771 - val_binary_crossentropy: 0.4601\n",
            "Epoch 16/20\n",
            "25000/25000 - 3s - loss: 0.0874 - acc: 0.9651 - binary_crossentropy: 0.0874 - val_loss: 0.4793 - val_acc: 0.8758 - val_binary_crossentropy: 0.4793\n",
            "Epoch 17/20\n",
            "25000/25000 - 3s - loss: 0.0824 - acc: 0.9656 - binary_crossentropy: 0.0824 - val_loss: 0.5133 - val_acc: 0.8759 - val_binary_crossentropy: 0.5133\n",
            "Epoch 18/20\n",
            "25000/25000 - 3s - loss: 0.0746 - acc: 0.9678 - binary_crossentropy: 0.0746 - val_loss: 0.5432 - val_acc: 0.8743 - val_binary_crossentropy: 0.5432\n",
            "Epoch 19/20\n",
            "25000/25000 - 3s - loss: 0.0717 - acc: 0.9692 - binary_crossentropy: 0.0717 - val_loss: 0.5651 - val_acc: 0.8738 - val_binary_crossentropy: 0.5651\n",
            "Epoch 20/20\n",
            "25000/25000 - 3s - loss: 0.0726 - acc: 0.9687 - binary_crossentropy: 0.0726 - val_loss: 0.5573 - val_acc: 0.8742 - val_binary_crossentropy: 0.5573\n"
          ],
          "name": "stdout"
        }
      ]
    },
    {
      "cell_type": "markdown",
      "metadata": {
        "id": "PTpZNsJX0siZ",
        "colab_type": "text"
      },
      "source": [
        "**Demonstrate overfitting**"
      ]
    },
    {
      "cell_type": "markdown",
      "metadata": {
        "id": "7TJGuhSQ0z33",
        "colab_type": "text"
      },
      "source": [
        "The simplest way to prevent overfitting is to reduce the size of the model, i.e. the number of learnable parameters in the model (which is determined by the number of layers and the number of units per layer). In deep learning, the number of learnable parameters in a model is often referred to as the model's \"capacity\". Intuitively, a model with more parameters will have more \"memorization capacity\" and therefore will be able to easily learn a perfect dictionary-like mapping between training samples and their targets, a mapping without any generalization power, but this would be useless when making predictions on previously unseen data."
      ]
    },
    {
      "cell_type": "markdown",
      "metadata": {
        "id": "odb894sO1AzK",
        "colab_type": "text"
      },
      "source": [
        "Always keep this in mind: deep learning models tend to be good at fitting to the training data, but the real challenge is generalization, not fitting."
      ]
    },
    {
      "cell_type": "markdown",
      "metadata": {
        "id": "ZYT_pkw_1ObI",
        "colab_type": "text"
      },
      "source": [
        "On the other hand, if the network has limited memorization resources, it will not be able to learn the mapping as easily. To minimize its loss, it will have to learn compressed representations that have more predictive power. At the same time, if you make your model too small, it will have difficulty fitting to the training data. There is a balance between \"too much capacity\" and \"not enough capacity\".\n",
        "\n",
        "Unfortunately, there is no magical formula to determine the right size or architecture of your model (in terms of the number of layers, or the right size for each layer). You will have to experiment using a series of different architectures.\n",
        "\n"
      ]
    },
    {
      "cell_type": "markdown",
      "metadata": {
        "id": "XbSp08Mx1bj9",
        "colab_type": "text"
      },
      "source": [
        "To find an appropriate model size, it's best to start with relatively few layers and parameters, then begin increasing the size of the layers or adding new layers until you see diminishing returns on the validation loss."
      ]
    },
    {
      "cell_type": "markdown",
      "metadata": {
        "id": "8a_ElsH61-Be",
        "colab_type": "text"
      },
      "source": [
        "## Strategies to prevent overfitting"
      ]
    },
    {
      "cell_type": "markdown",
      "metadata": {
        "id": "7HDqcUSn2E43",
        "colab_type": "text"
      },
      "source": [
        "### Add weight regularization"
      ]
    },
    {
      "cell_type": "markdown",
      "metadata": {
        "id": "RGID6u1P2H6R",
        "colab_type": "text"
      },
      "source": [
        "A \"simple model\" in this context is a model where the distribution of parameter values has less entropy (or a model with fewer parameters altogether, as we saw in the section above). Thus a common way to mitigate overfitting is to put constraints on the complexity of a network by forcing its weights only to take small values, which makes the distribution of weight values more \"regular\". This is called \"weight regularization\", and it is done by adding to the loss function of the network a cost associated with having large weights. This cost comes in two flavors:\n",
        "\n",
        "L1 regularization, where the cost added is proportional to the absolute value of the weights coefficients (i.e. to what is called the \"L1 norm\" of the weights).\n",
        "\n",
        "L2 regularization, where the cost added is proportional to the square of the value of the weights coefficients (i.e. to what is called the squared \"L2 norm\" of the weights). L2 regularization is also called weight decay in the context of neural networks. Don't let the different name confuse you: weight decay is mathematically the exact same as L2 regularization."
      ]
    },
    {
      "cell_type": "markdown",
      "metadata": {
        "id": "o52GepCX3QoO",
        "colab_type": "text"
      },
      "source": [
        "In tf.keras, weight regularization is added by passing weight regularizer instances to layers as keyword arguments."
      ]
    },
    {
      "cell_type": "markdown",
      "metadata": {
        "id": "ohVxmgeR1_pw",
        "colab_type": "text"
      },
      "source": [
        "Note that because this penalty is only added at training time, the loss for this network will be much higher at training than at test time."
      ]
    },
    {
      "cell_type": "markdown",
      "metadata": {
        "id": "dTjeHFod4CB8",
        "colab_type": "text"
      },
      "source": [
        "### Add dropout"
      ]
    },
    {
      "cell_type": "markdown",
      "metadata": {
        "id": "c_MH0XCi4EF8",
        "colab_type": "text"
      },
      "source": [
        "Dropout, applied to a layer, consists of randomly \"dropping out\" (i.e. set to zero) a number of output features of the layer during training."
      ]
    },
    {
      "cell_type": "markdown",
      "metadata": {
        "id": "_cPCYYYR4bMb",
        "colab_type": "text"
      },
      "source": [
        "At test time, no units are dropped out, and instead the layer's output values are scaled down by a factor equal to the dropout rate, so as to balance for the fact that more units are active than at training time."
      ]
    },
    {
      "cell_type": "markdown",
      "metadata": {
        "id": "wMiFyypZ4yxi",
        "colab_type": "text"
      },
      "source": [
        "In tf.keras you can introduce dropout in a network via the Dropout layer, which gets applied to the output of layer right before."
      ]
    },
    {
      "cell_type": "markdown",
      "metadata": {
        "id": "-lDNy2yq4_Bd",
        "colab_type": "text"
      },
      "source": [
        "To recap: here are the most common ways to prevent overfitting in neural networks:\n",
        "\n",
        "Get more training data.\n",
        "Reduce the capacity of the network.\n",
        "Add weight regularization.\n",
        "Add dropout. "
      ]
    },
    {
      "cell_type": "markdown",
      "metadata": {
        "id": "UtKg3R7g5FYb",
        "colab_type": "text"
      },
      "source": [
        "And two important approaches not covered in this guide are data-augmentation and batch normalization."
      ]
    }
  ]
}